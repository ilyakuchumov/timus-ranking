{
 "cells": [
  {
   "cell_type": "code",
   "execution_count": 1,
   "metadata": {},
   "outputs": [],
   "source": [
    "import sys\n",
    "sys.path.append('../')"
   ]
  },
  {
   "cell_type": "code",
   "execution_count": 20,
   "metadata": {},
   "outputs": [],
   "source": [
    "import json\n",
    "\n",
    "import pandas\n",
    "import numpy\n",
    "\n",
    "import lib.utils as utils\n",
    "import lib.timus_fetching as timus_fetching\n",
    "import lib.difficulty_based_suggest as difficulty_based_suggest"
   ]
  },
  {
   "cell_type": "code",
   "execution_count": 3,
   "metadata": {},
   "outputs": [
    {
     "name": "stderr",
     "output_type": "stream",
     "text": [
      "/home/ec2-user/mount_point/tfnewenv/lib/python3.6/site-packages/numpy/lib/arraysetops.py:472: FutureWarning: elementwise comparison failed; returning scalar instead, but in the future will perform elementwise comparison\n",
      "  mask |= (ar1 == a)\n"
     ]
    }
   ],
   "source": [
    "timus = pandas.read_csv('../data/timus.csv', index_col=0)"
   ]
  },
  {
   "cell_type": "code",
   "execution_count": null,
   "metadata": {},
   "outputs": [],
   "source": [
    "filtered_timus = utils.filter_timus_by_unique_accepted(timus, lambda cnt: cnt > 100)"
   ]
  },
  {
   "cell_type": "code",
   "execution_count": 11,
   "metadata": {},
   "outputs": [],
   "source": [
    "def extend_problem_difficulties(timus,\n",
    "                                problem_difficulties=dict(),\n",
    "                                max_success_count=None\n",
    "                               ):\n",
    "    problem_difficulties = dict(problem_difficulties)\n",
    "    all_problems = set(timus['problem_id'])\n",
    "    success = 0\n",
    "    for problem_id in all_problems:\n",
    "        if problem_id in problem_difficulties:\n",
    "            continue\n",
    "        success += 1\n",
    "        problem_difficulties[problem_id] = timus_fetching.fetch_problem_difficulty(problem_id)\n",
    "        if max_success_count is not None and success >= max_success_count:\n",
    "            break\n",
    "    return problem_difficulties"
   ]
  },
  {
   "cell_type": "code",
   "execution_count": null,
   "metadata": {},
   "outputs": [],
   "source": [
    "problem_difficulties = extend_problem_difficulties(timus)\n",
    "with open('../data/problem_difficulties.json', 'w+') as f:\n",
    "    f.write(json.dumps(problem_difficulties))"
   ]
  },
  {
   "cell_type": "code",
   "execution_count": 5,
   "metadata": {},
   "outputs": [],
   "source": [
    "with open('../data/problem_difficulties.json') as f:\n",
    "    problem_difficulties = json.loads(f.read())\n",
    "problem_difficulties = {\n",
    "    int(key): problem_difficulties[key]\n",
    "    for key in problem_difficulties\n",
    "}"
   ]
  },
  {
   "cell_type": "code",
   "execution_count": null,
   "metadata": {},
   "outputs": [],
   "source": [
    "difficulty_based_scores = utils.get_algorithm_scores(\n",
    "    timus=filtered_timus,\n",
    "    suggest_for_timus=lambda t: difficulty_based_suggest.suggest(timus=t, top_count=10, problem_difficulties=problem_difficulties),\n",
    ")"
   ]
  },
  {
   "cell_type": "code",
   "execution_count": 60,
   "metadata": {},
   "outputs": [
    {
     "data": {
      "text/plain": [
       "array([0.00134771, 0.00154959, 0.00122649, 0.00114242, 0.00099437,\n",
       "       0.        , 0.        , 0.        , 0.        , 0.        ,\n",
       "       0.00028003, 0.00087057])"
      ]
     },
     "execution_count": 60,
     "metadata": {},
     "output_type": "execute_result"
    }
   ],
   "source": [
    "difficulty_based_scores"
   ]
  },
  {
   "cell_type": "code",
   "execution_count": 61,
   "metadata": {},
   "outputs": [
    {
     "data": {
      "text/plain": [
       "count    12.000000\n",
       "mean      0.000618\n",
       "std       0.000623\n",
       "min       0.000000\n",
       "25%       0.000000\n",
       "50%       0.000575\n",
       "75%       0.001163\n",
       "max       0.001550\n",
       "dtype: float64"
      ]
     },
     "execution_count": 61,
     "metadata": {},
     "output_type": "execute_result"
    }
   ],
   "source": [
    "pandas.Series(difficulty_based_scores).describe()"
   ]
  },
  {
   "cell_type": "code",
   "execution_count": null,
   "metadata": {},
   "outputs": [],
   "source": []
  }
 ],
 "metadata": {
  "kernelspec": {
   "display_name": "Python 3",
   "language": "python",
   "name": "python3"
  },
  "language_info": {
   "codemirror_mode": {
    "name": "ipython",
    "version": 3
   },
   "file_extension": ".py",
   "mimetype": "text/x-python",
   "name": "python",
   "nbconvert_exporter": "python",
   "pygments_lexer": "ipython3",
   "version": "3.6.3"
  }
 },
 "nbformat": 4,
 "nbformat_minor": 2
}
