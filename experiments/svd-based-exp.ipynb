{
 "cells": [
  {
   "cell_type": "code",
   "execution_count": 166,
   "metadata": {},
   "outputs": [],
   "source": [
    "import sys\n",
    "sys.path.append('../')"
   ]
  },
  {
   "cell_type": "code",
   "execution_count": 167,
   "metadata": {},
   "outputs": [],
   "source": [
    "import pandas\n",
    "import numpy\n",
    "import numpy.linalg\n",
    "\n",
    "import lib.utils as utils"
   ]
  },
  {
   "cell_type": "code",
   "execution_count": 168,
   "metadata": {},
   "outputs": [
    {
     "name": "stderr",
     "output_type": "stream",
     "text": [
      "/home/ec2-user/mount_point/tfnewenv/lib/python3.6/site-packages/numpy/lib/arraysetops.py:472: FutureWarning: elementwise comparison failed; returning scalar instead, but in the future will perform elementwise comparison\n",
      "  mask |= (ar1 == a)\n"
     ]
    }
   ],
   "source": [
    "timus = pandas.read_csv('../data/timus.csv', index_col=0)"
   ]
  },
  {
   "cell_type": "code",
   "execution_count": 169,
   "metadata": {},
   "outputs": [],
   "source": [
    "filtered_timus = utils.filter_timus_by_unique_accepted(timus, lambda cnt: cnt > 100)"
   ]
  },
  {
   "cell_type": "code",
   "execution_count": 170,
   "metadata": {},
   "outputs": [],
   "source": [
    "def suggest(timus,\n",
    "            top_count,\n",
    "            enable_negative,\n",
    "            k=200,\n",
    "           ):\n",
    "    solved_matrix, authors_encoder, problems_encoder = utils.build_solved_matrix(timus=timus, enable_negative=enable_negative)\n",
    "    U, S, VT = numpy.linalg.svd(solved_matrix, full_matrices=False)\n",
    "    A = (U * S)[:,:k]\n",
    "    B = VT[:k,:]\n",
    "    C = A.dot(B)\n",
    "    suggestions = dict()\n",
    "    for author_id in range(authors_encoder.get_set_size()):\n",
    "        user_suggestions = []\n",
    "        for problem_id in range(problems_encoder.get_set_size()):\n",
    "            if solved_matrix[author_id][problem_id] == 1:\n",
    "                continue\n",
    "            real_problem_id = problems_encoder.decode(problem_id)\n",
    "            user_suggestions.append(\n",
    "                utils.SingleSuggest(\n",
    "                    problem_index=real_problem_id,\n",
    "                    score=C[author_id][problem_id]\n",
    "                )\n",
    "            )\n",
    "        real_author_id = authors_encoder.decode(author_id)\n",
    "        suggestions[real_author_id] = sorted(user_suggestions, key=lambda s: s.score, reverse=True)[:top_count]\n",
    "    return suggestions"
   ]
  },
  {
   "cell_type": "code",
   "execution_count": 172,
   "metadata": {},
   "outputs": [],
   "source": [
    "s = suggest(filtered_timus, top_count=5, enable_negative=False)"
   ]
  },
  {
   "cell_type": "code",
   "execution_count": 173,
   "metadata": {},
   "outputs": [
    {
     "data": {
      "text/plain": [
       "[Suggest[problem_index = 1531, score = 0.8464132171213687],\n",
       " Suggest[problem_index = 1705, score = 0.7664520486901404],\n",
       " Suggest[problem_index = 1802, score = 0.7421519173429595],\n",
       " Suggest[problem_index = 1946, score = 0.6874396404739825],\n",
       " Suggest[problem_index = 1420, score = 0.6748694599989641]]"
      ]
     },
     "execution_count": 173,
     "metadata": {},
     "output_type": "execute_result"
    }
   ],
   "source": [
    "s[99162]"
   ]
  },
  {
   "cell_type": "code",
   "execution_count": 174,
   "metadata": {},
   "outputs": [
    {
     "data": {
      "text/plain": [
       "[Suggest[problem_index = 1674, score = 0.8562424143195675],\n",
       " Suggest[problem_index = 1621, score = 0.8167514402580258],\n",
       " Suggest[problem_index = 1853, score = 0.7790755056906884],\n",
       " Suggest[problem_index = 1815, score = 0.7690374997186413],\n",
       " Suggest[problem_index = 1594, score = 0.7592231214094446]]"
      ]
     },
     "execution_count": 174,
     "metadata": {},
     "output_type": "execute_result"
    }
   ],
   "source": [
    "s[97440]"
   ]
  },
  {
   "cell_type": "code",
   "execution_count": 163,
   "metadata": {},
   "outputs": [],
   "source": [
    "svd_based_scores = utils.get_algorithm_scores(\n",
    "    timus=filtered_timus,\n",
    "    suggest_for_timus=lambda t: suggest(timus=t, top_count=5, enable_negative=True),\n",
    ")"
   ]
  },
  {
   "cell_type": "code",
   "execution_count": 164,
   "metadata": {},
   "outputs": [
    {
     "data": {
      "text/plain": [
       "array([0.09347443, 0.09370988, 0.04859611, 0.06557377, 0.06360424,\n",
       "       0.06374172, 0.04435798, 0.06997743, 0.06642336, 0.07320644,\n",
       "       0.06546763, 0.09397944])"
      ]
     },
     "execution_count": 164,
     "metadata": {},
     "output_type": "execute_result"
    }
   ],
   "source": [
    "svd_based_scores"
   ]
  },
  {
   "cell_type": "code",
   "execution_count": 165,
   "metadata": {},
   "outputs": [
    {
     "data": {
      "text/plain": [
       "count    12.000000\n",
       "mean      0.070176\n",
       "std       0.016367\n",
       "min       0.044358\n",
       "25%       0.063707\n",
       "50%       0.065999\n",
       "75%       0.078273\n",
       "max       0.093979\n",
       "dtype: float64"
      ]
     },
     "execution_count": 165,
     "metadata": {},
     "output_type": "execute_result"
    }
   ],
   "source": [
    "pandas.Series(svd_based_scores).describe()"
   ]
  },
  {
   "cell_type": "code",
   "execution_count": 7,
   "metadata": {},
   "outputs": [
    {
     "data": {
      "text/plain": [
       "array([0.08289242, 0.09884467, 0.05939525, 0.06557377, 0.07773852,\n",
       "       0.06870861, 0.05992218, 0.07298721, 0.0729927 , 0.08052709,\n",
       "       0.07697842, 0.10279001])"
      ]
     },
     "execution_count": 7,
     "metadata": {},
     "output_type": "execute_result"
    }
   ],
   "source": [
    "svd_based_scores"
   ]
  },
  {
   "cell_type": "code",
   "execution_count": 8,
   "metadata": {},
   "outputs": [
    {
     "data": {
      "text/plain": [
       "count    12.000000\n",
       "mean      0.076613\n",
       "std       0.013555\n",
       "min       0.059395\n",
       "25%       0.067925\n",
       "50%       0.074986\n",
       "75%       0.081118\n",
       "max       0.102790\n",
       "dtype: float64"
      ]
     },
     "execution_count": 8,
     "metadata": {},
     "output_type": "execute_result"
    }
   ],
   "source": [
    "pandas.Series(svd_based_scores).describe()"
   ]
  }
 ],
 "metadata": {
  "kernelspec": {
   "display_name": "Python 3",
   "language": "python",
   "name": "python3"
  },
  "language_info": {
   "codemirror_mode": {
    "name": "ipython",
    "version": 3
   },
   "file_extension": ".py",
   "mimetype": "text/x-python",
   "name": "python",
   "nbconvert_exporter": "python",
   "pygments_lexer": "ipython3",
   "version": "3.6.3"
  }
 },
 "nbformat": 4,
 "nbformat_minor": 2
}
