{
 "cells": [
  {
   "cell_type": "code",
   "execution_count": 1,
   "metadata": {},
   "outputs": [],
   "source": [
    "import sys\n",
    "sys.path.append('../')"
   ]
  },
  {
   "cell_type": "code",
   "execution_count": 2,
   "metadata": {},
   "outputs": [],
   "source": [
    "import pandas\n",
    "import numpy\n",
    "import numpy.linalg\n",
    "\n",
    "import lib.utils as utils"
   ]
  },
  {
   "cell_type": "code",
   "execution_count": 3,
   "metadata": {},
   "outputs": [
    {
     "name": "stderr",
     "output_type": "stream",
     "text": [
      "/home/ec2-user/mount_point/tfnewenv/lib/python3.6/site-packages/numpy/lib/arraysetops.py:472: FutureWarning: elementwise comparison failed; returning scalar instead, but in the future will perform elementwise comparison\n",
      "  mask |= (ar1 == a)\n"
     ]
    }
   ],
   "source": [
    "timus = pandas.read_csv('../data/timus.csv', index_col=0)"
   ]
  },
  {
   "cell_type": "code",
   "execution_count": 4,
   "metadata": {},
   "outputs": [],
   "source": [
    "filtered_timus = utils.filter_timus_by_unique_accepted(timus, lambda cnt: cnt > 100)"
   ]
  },
  {
   "cell_type": "code",
   "execution_count": 162,
   "metadata": {},
   "outputs": [],
   "source": [
    "def suggest(timus,\n",
    "            top_count,\n",
    "            k=200,\n",
    "           ):\n",
    "    solved_matrix, authors_encoder, problems_encoder = utils.build_solved_matrix(timus=timus, enable_negative=True)\n",
    "    U, S, VT = numpy.linalg.svd(solved_matrix, full_matrices=False)\n",
    "    A = (U * S)[:,:k]\n",
    "    B = VT[:k,:]\n",
    "    C = A.dot(B)\n",
    "    suggestions = dict()\n",
    "    for author_id in range(authors_encoder.get_set_size()):\n",
    "        user_suggestions = []\n",
    "        for problem_id in range(problems_encoder.get_set_size()):\n",
    "            if solved_matrix[author_id][problem_id] == 1:\n",
    "                continue\n",
    "            real_problem_id = problems_encoder.decode(problem_id)\n",
    "            user_suggestions.append(\n",
    "                utils.SingleSuggest(\n",
    "                    problem_index=real_problem_id,\n",
    "                    score=C[author_id][problem_id]\n",
    "                )\n",
    "            )\n",
    "        real_author_id = authors_encoder.decode(author_id)\n",
    "        suggestions[real_author_id] = sorted(user_suggestions, key=lambda s: s.score, reverse=True)[:top_count]\n",
    "    return suggestions"
   ]
  },
  {
   "cell_type": "code",
   "execution_count": 163,
   "metadata": {},
   "outputs": [],
   "source": [
    "svd_based_scores = utils.get_algorithm_scores(\n",
    "    timus=filtered_timus,\n",
    "    suggest_for_timus=lambda t: suggest(timus=t, top_count=5),\n",
    ")"
   ]
  },
  {
   "cell_type": "code",
   "execution_count": 164,
   "metadata": {},
   "outputs": [
    {
     "data": {
      "text/plain": [
       "array([0.09347443, 0.09370988, 0.04859611, 0.06557377, 0.06360424,\n",
       "       0.06374172, 0.04435798, 0.06997743, 0.06642336, 0.07320644,\n",
       "       0.06546763, 0.09397944])"
      ]
     },
     "execution_count": 164,
     "metadata": {},
     "output_type": "execute_result"
    }
   ],
   "source": [
    "svd_based_scores"
   ]
  },
  {
   "cell_type": "code",
   "execution_count": 165,
   "metadata": {},
   "outputs": [
    {
     "data": {
      "text/plain": [
       "count    12.000000\n",
       "mean      0.070176\n",
       "std       0.016367\n",
       "min       0.044358\n",
       "25%       0.063707\n",
       "50%       0.065999\n",
       "75%       0.078273\n",
       "max       0.093979\n",
       "dtype: float64"
      ]
     },
     "execution_count": 165,
     "metadata": {},
     "output_type": "execute_result"
    }
   ],
   "source": [
    "pandas.Series(svd_based_scores).describe()"
   ]
  },
  {
   "cell_type": "code",
   "execution_count": 7,
   "metadata": {},
   "outputs": [
    {
     "data": {
      "text/plain": [
       "array([0.08289242, 0.09884467, 0.05939525, 0.06557377, 0.07773852,\n",
       "       0.06870861, 0.05992218, 0.07298721, 0.0729927 , 0.08052709,\n",
       "       0.07697842, 0.10279001])"
      ]
     },
     "execution_count": 7,
     "metadata": {},
     "output_type": "execute_result"
    }
   ],
   "source": [
    "svd_based_scores"
   ]
  },
  {
   "cell_type": "code",
   "execution_count": 8,
   "metadata": {},
   "outputs": [
    {
     "data": {
      "text/plain": [
       "count    12.000000\n",
       "mean      0.076613\n",
       "std       0.013555\n",
       "min       0.059395\n",
       "25%       0.067925\n",
       "50%       0.074986\n",
       "75%       0.081118\n",
       "max       0.102790\n",
       "dtype: float64"
      ]
     },
     "execution_count": 8,
     "metadata": {},
     "output_type": "execute_result"
    }
   ],
   "source": [
    "pandas.Series(svd_based_scores).describe()"
   ]
  },
  {
   "cell_type": "code",
   "execution_count": 159,
   "metadata": {},
   "outputs": [],
   "source": [
    "solved_matrix, authors_encoder, problems_encoder = utils.build_solved_matrix(timus=filtered_timus, enable_negative=True)"
   ]
  },
  {
   "cell_type": "code",
   "execution_count": 160,
   "metadata": {},
   "outputs": [],
   "source": [
    "x = solved_matrix[authors_encoder.encode(99162)]"
   ]
  },
  {
   "cell_type": "code",
   "execution_count": 161,
   "metadata": {},
   "outputs": [
    {
     "data": {
      "text/plain": [
       "array([-0.09966799, -0.09966799, -0.04995837, -0.04995837, -0.19737532,\n",
       "       -0.71629787, -0.29131261, -0.04995837, -0.24491866, -0.04995837])"
      ]
     },
     "execution_count": 161,
     "metadata": {},
     "output_type": "execute_result"
    }
   ],
   "source": [
    "x[x < 0]"
   ]
  },
  {
   "cell_type": "code",
   "execution_count": 85,
   "metadata": {},
   "outputs": [
    {
     "ename": "TypeError",
     "evalue": "Required argument 'shape' (pos 1) not found",
     "output_type": "error",
     "traceback": [
      "\u001b[0;31m---------------------------------------------------------------------------\u001b[0m",
      "\u001b[0;31mTypeError\u001b[0m                                 Traceback (most recent call last)",
      "\u001b[0;32m<ipython-input-85-5c001316f8dd>\u001b[0m in \u001b[0;36m<module>\u001b[0;34m()\u001b[0m\n\u001b[0;32m----> 1\u001b[0;31m \u001b[0mnumpy\u001b[0m\u001b[0;34m.\u001b[0m\u001b[0mzeros\u001b[0m\u001b[0;34m(\u001b[0m\u001b[0mdtype\u001b[0m\u001b[0;34m=\u001b[0m\u001b[0mfloat\u001b[0m\u001b[0;34m)\u001b[0m\u001b[0;34m\u001b[0m\u001b[0m\n\u001b[0m",
      "\u001b[0;31mTypeError\u001b[0m: Required argument 'shape' (pos 1) not found"
     ]
    }
   ],
   "source": [
    "numpy.zeros(dtype=float)"
   ]
  },
  {
   "cell_type": "code",
   "execution_count": 78,
   "metadata": {},
   "outputs": [
    {
     "data": {
      "text/plain": [
       "3247"
      ]
     },
     "execution_count": 78,
     "metadata": {},
     "output_type": "execute_result"
    }
   ],
   "source": [
    "len(set(filtered_timus['author_id']))"
   ]
  },
  {
   "cell_type": "code",
   "execution_count": 84,
   "metadata": {},
   "outputs": [],
   "source": [
    "def accepted_filter_per_author(cnt):\n",
    "    return cnt > 100"
   ]
  },
  {
   "cell_type": "code",
   "execution_count": 94,
   "metadata": {},
   "outputs": [],
   "source": [
    "def filter_timus_by_unique_accepted(timus,\n",
    "                                    accepted_filter_per_author\n",
    "                                   ):\n",
    "    return (\n",
    "        timus\n",
    "            .groupby('author_id')\n",
    "            .filter(\n",
    "                lambda group: accepted_filter_per_author(len(set(group[group['judgement_result'] == 'Accepted']['problem_id'])))\n",
    "            )\n",
    "    )"
   ]
  },
  {
   "cell_type": "code",
   "execution_count": 95,
   "metadata": {},
   "outputs": [
    {
     "data": {
      "text/plain": [
       "3247"
      ]
     },
     "execution_count": 95,
     "metadata": {},
     "output_type": "execute_result"
    }
   ],
   "source": [
    "len(set(filter_timus_by_unique_accepted(timus, accepted_filter_per_author)['author_id']))"
   ]
  },
  {
   "cell_type": "code",
   "execution_count": 9,
   "metadata": {},
   "outputs": [],
   "source": [
    "import scipy.special"
   ]
  },
  {
   "cell_type": "code",
   "execution_count": 60,
   "metadata": {},
   "outputs": [
    {
     "data": {
      "text/plain": [
       "-0.7615941559557646"
      ]
     },
     "execution_count": 60,
     "metadata": {},
     "output_type": "execute_result"
    }
   ],
   "source": [
    "f(-20)"
   ]
  },
  {
   "cell_type": "code",
   "execution_count": 158,
   "metadata": {},
   "outputs": [
    {
     "data": {
      "text/plain": [
       "<module 'lib.utils' from '../lib/utils.py'>"
      ]
     },
     "execution_count": 158,
     "metadata": {},
     "output_type": "execute_result"
    }
   ],
   "source": [
    "import imp\n",
    "imp.reload(utils)"
   ]
  },
  {
   "cell_type": "code",
   "execution_count": 71,
   "metadata": {},
   "outputs": [
    {
     "data": {
      "text/html": [
       "<div>\n",
       "<style scoped>\n",
       "    .dataframe tbody tr th:only-of-type {\n",
       "        vertical-align: middle;\n",
       "    }\n",
       "\n",
       "    .dataframe tbody tr th {\n",
       "        vertical-align: top;\n",
       "    }\n",
       "\n",
       "    .dataframe thead th {\n",
       "        text-align: right;\n",
       "    }\n",
       "</style>\n",
       "<table border=\"1\" class=\"dataframe\">\n",
       "  <thead>\n",
       "    <tr style=\"text-align: right;\">\n",
       "      <th></th>\n",
       "      <th>author_id</th>\n",
       "      <th>date</th>\n",
       "      <th>execution_time</th>\n",
       "      <th>judgement_result</th>\n",
       "      <th>language</th>\n",
       "      <th>memory_used</th>\n",
       "      <th>problem_id</th>\n",
       "      <th>submit_id</th>\n",
       "      <th>test_number</th>\n",
       "    </tr>\n",
       "  </thead>\n",
       "  <tbody>\n",
       "    <tr>\n",
       "      <th>18</th>\n",
       "      <td>10023</td>\n",
       "      <td>2000-09-26 19:28:53</td>\n",
       "      <td>0.020</td>\n",
       "      <td>Accepted</td>\n",
       "      <td>FreePascal 1.0.6</td>\n",
       "      <td>121</td>\n",
       "      <td>1000</td>\n",
       "      <td>291</td>\n",
       "      <td>0</td>\n",
       "    </tr>\n",
       "    <tr>\n",
       "      <th>32</th>\n",
       "      <td>10023</td>\n",
       "      <td>2000-09-26 20:53:03</td>\n",
       "      <td>0.030</td>\n",
       "      <td>Wrong answer</td>\n",
       "      <td>FreePascal 1.0.6</td>\n",
       "      <td>149</td>\n",
       "      <td>1004</td>\n",
       "      <td>308</td>\n",
       "      <td>1</td>\n",
       "    </tr>\n",
       "    <tr>\n",
       "      <th>33</th>\n",
       "      <td>10023</td>\n",
       "      <td>2000-09-26 20:57:00</td>\n",
       "      <td>0.020</td>\n",
       "      <td>Wrong answer</td>\n",
       "      <td>FreePascal 1.0.6</td>\n",
       "      <td>149</td>\n",
       "      <td>1004</td>\n",
       "      <td>309</td>\n",
       "      <td>1</td>\n",
       "    </tr>\n",
       "    <tr>\n",
       "      <th>73</th>\n",
       "      <td>10023</td>\n",
       "      <td>2000-09-27 13:20:00</td>\n",
       "      <td>0.120</td>\n",
       "      <td>Wrong answer</td>\n",
       "      <td>FreePascal 1.0.6</td>\n",
       "      <td>657</td>\n",
       "      <td>1004</td>\n",
       "      <td>352</td>\n",
       "      <td>1</td>\n",
       "    </tr>\n",
       "    <tr>\n",
       "      <th>74</th>\n",
       "      <td>10023</td>\n",
       "      <td>2000-09-27 13:40:00</td>\n",
       "      <td>0.015</td>\n",
       "      <td>Wrong answer</td>\n",
       "      <td>FreePascal 1.0.6</td>\n",
       "      <td>125</td>\n",
       "      <td>1005</td>\n",
       "      <td>353</td>\n",
       "      <td>1</td>\n",
       "    </tr>\n",
       "  </tbody>\n",
       "</table>\n",
       "</div>"
      ],
      "text/plain": [
       "    author_id                 date  execution_time judgement_result  \\\n",
       "18      10023  2000-09-26 19:28:53           0.020         Accepted   \n",
       "32      10023  2000-09-26 20:53:03           0.030     Wrong answer   \n",
       "33      10023  2000-09-26 20:57:00           0.020     Wrong answer   \n",
       "73      10023  2000-09-27 13:20:00           0.120     Wrong answer   \n",
       "74      10023  2000-09-27 13:40:00           0.015     Wrong answer   \n",
       "\n",
       "            language  memory_used  problem_id  submit_id  test_number  \n",
       "18  FreePascal 1.0.6          121        1000        291            0  \n",
       "32  FreePascal 1.0.6          149        1004        308            1  \n",
       "33  FreePascal 1.0.6          149        1004        309            1  \n",
       "73  FreePascal 1.0.6          657        1004        352            1  \n",
       "74  FreePascal 1.0.6          125        1005        353            1  "
      ]
     },
     "execution_count": 71,
     "metadata": {},
     "output_type": "execute_result"
    }
   ],
   "source": [
    "filtered_timus.head()"
   ]
  },
  {
   "cell_type": "code",
   "execution_count": null,
   "metadata": {},
   "outputs": [],
   "source": []
  }
 ],
 "metadata": {
  "kernelspec": {
   "display_name": "Python 3",
   "language": "python",
   "name": "python3"
  },
  "language_info": {
   "codemirror_mode": {
    "name": "ipython",
    "version": 3
   },
   "file_extension": ".py",
   "mimetype": "text/x-python",
   "name": "python",
   "nbconvert_exporter": "python",
   "pygments_lexer": "ipython3",
   "version": "3.6.3"
  }
 },
 "nbformat": 4,
 "nbformat_minor": 2
}
