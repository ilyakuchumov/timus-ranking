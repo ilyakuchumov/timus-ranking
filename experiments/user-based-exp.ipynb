{
 "cells": [
  {
   "cell_type": "code",
   "execution_count": 2,
   "metadata": {},
   "outputs": [],
   "source": [
    "import sys\n",
    "sys.path.append('../')"
   ]
  },
  {
   "cell_type": "code",
   "execution_count": 3,
   "metadata": {},
   "outputs": [],
   "source": [
    "import datetime\n",
    "import math\n",
    "from multiprocessing.pool import ThreadPool\n",
    "\n",
    "import pandas\n",
    "import numpy\n",
    "import numpy.linalg\n",
    "import scipy.linalg\n",
    "\n",
    "from tqdm import tqdm\n",
    "\n",
    "import lib.utils as utils\n",
    "import lib.user_based_suggest as user_based_suggest"
   ]
  },
  {
   "cell_type": "code",
   "execution_count": 4,
   "metadata": {},
   "outputs": [
    {
     "name": "stderr",
     "output_type": "stream",
     "text": [
      "/home/ec2-user/mount_point/tfnewenv/lib/python3.6/site-packages/numpy/lib/arraysetops.py:472: FutureWarning: elementwise comparison failed; returning scalar instead, but in the future will perform elementwise comparison\n",
      "  mask |= (ar1 == a)\n"
     ]
    }
   ],
   "source": [
    "timus = pandas.read_csv('../data/timus.csv', index_col=0)"
   ]
  },
  {
   "cell_type": "code",
   "execution_count": 5,
   "metadata": {},
   "outputs": [
    {
     "data": {
      "text/html": [
       "<div>\n",
       "<style scoped>\n",
       "    .dataframe tbody tr th:only-of-type {\n",
       "        vertical-align: middle;\n",
       "    }\n",
       "\n",
       "    .dataframe tbody tr th {\n",
       "        vertical-align: top;\n",
       "    }\n",
       "\n",
       "    .dataframe thead th {\n",
       "        text-align: right;\n",
       "    }\n",
       "</style>\n",
       "<table border=\"1\" class=\"dataframe\">\n",
       "  <thead>\n",
       "    <tr style=\"text-align: right;\">\n",
       "      <th></th>\n",
       "      <th>author_id</th>\n",
       "      <th>date</th>\n",
       "      <th>execution_time</th>\n",
       "      <th>judgement_result</th>\n",
       "      <th>language</th>\n",
       "      <th>memory_used</th>\n",
       "      <th>problem_id</th>\n",
       "      <th>submit_id</th>\n",
       "      <th>test_number</th>\n",
       "    </tr>\n",
       "  </thead>\n",
       "  <tbody>\n",
       "    <tr>\n",
       "      <th>0</th>\n",
       "      <td>10004</td>\n",
       "      <td>2000-04-28 10:15:41</td>\n",
       "      <td>0.02</td>\n",
       "      <td>Accepted</td>\n",
       "      <td>Intel C++ 7</td>\n",
       "      <td>85</td>\n",
       "      <td>1000</td>\n",
       "      <td>184</td>\n",
       "      <td>0</td>\n",
       "    </tr>\n",
       "    <tr>\n",
       "      <th>1</th>\n",
       "      <td>10005</td>\n",
       "      <td>2000-05-12 13:13:38</td>\n",
       "      <td>0.00</td>\n",
       "      <td>Compilation error</td>\n",
       "      <td>Intel C++ 7</td>\n",
       "      <td>0</td>\n",
       "      <td>1000</td>\n",
       "      <td>185</td>\n",
       "      <td>0</td>\n",
       "    </tr>\n",
       "    <tr>\n",
       "      <th>2</th>\n",
       "      <td>10020</td>\n",
       "      <td>2000-09-22 15:58:11</td>\n",
       "      <td>0.01</td>\n",
       "      <td>Accepted</td>\n",
       "      <td>FreePascal 1.0.6</td>\n",
       "      <td>117</td>\n",
       "      <td>1000</td>\n",
       "      <td>220</td>\n",
       "      <td>0</td>\n",
       "    </tr>\n",
       "    <tr>\n",
       "      <th>3</th>\n",
       "      <td>10022</td>\n",
       "      <td>2000-09-26 17:17:34</td>\n",
       "      <td>0.01</td>\n",
       "      <td>Accepted</td>\n",
       "      <td>Intel C++ 7</td>\n",
       "      <td>81</td>\n",
       "      <td>1000</td>\n",
       "      <td>247</td>\n",
       "      <td>0</td>\n",
       "    </tr>\n",
       "    <tr>\n",
       "      <th>4</th>\n",
       "      <td>10033</td>\n",
       "      <td>2000-09-26 18:21:55</td>\n",
       "      <td>0.00</td>\n",
       "      <td>Compilation error</td>\n",
       "      <td>FreePascal 1.0.6</td>\n",
       "      <td>0</td>\n",
       "      <td>1000</td>\n",
       "      <td>276</td>\n",
       "      <td>0</td>\n",
       "    </tr>\n",
       "  </tbody>\n",
       "</table>\n",
       "</div>"
      ],
      "text/plain": [
       "   author_id                 date  execution_time   judgement_result  \\\n",
       "0      10004  2000-04-28 10:15:41            0.02           Accepted   \n",
       "1      10005  2000-05-12 13:13:38            0.00  Compilation error   \n",
       "2      10020  2000-09-22 15:58:11            0.01           Accepted   \n",
       "3      10022  2000-09-26 17:17:34            0.01           Accepted   \n",
       "4      10033  2000-09-26 18:21:55            0.00  Compilation error   \n",
       "\n",
       "           language  memory_used  problem_id  submit_id  test_number  \n",
       "0       Intel C++ 7           85        1000        184            0  \n",
       "1       Intel C++ 7            0        1000        185            0  \n",
       "2  FreePascal 1.0.6          117        1000        220            0  \n",
       "3       Intel C++ 7           81        1000        247            0  \n",
       "4  FreePascal 1.0.6            0        1000        276            0  "
      ]
     },
     "execution_count": 5,
     "metadata": {},
     "output_type": "execute_result"
    }
   ],
   "source": [
    "timus.head()"
   ]
  },
  {
   "cell_type": "code",
   "execution_count": 6,
   "metadata": {},
   "outputs": [],
   "source": [
    "filtered_timus = utils.filter_timus_by_unique_accepted(timus, lambda cnt: cnt > 400)"
   ]
  },
  {
   "cell_type": "code",
   "execution_count": 7,
   "metadata": {},
   "outputs": [],
   "source": [
    "tc = utils.TestCase(filtered_timus, datetime.datetime.now() - datetime.timedelta(days=360))"
   ]
  },
  {
   "cell_type": "code",
   "execution_count": 8,
   "metadata": {},
   "outputs": [],
   "source": [
    "sug = user_based_suggest.suggest(tc.get_train(), 5)"
   ]
  },
  {
   "cell_type": "code",
   "execution_count": 10,
   "metadata": {},
   "outputs": [],
   "source": [
    "s = utils.get_first_ac_by_author(tc.get_test())"
   ]
  },
  {
   "cell_type": "code",
   "execution_count": 11,
   "metadata": {},
   "outputs": [],
   "source": [
    "def get_score(suggest_by_author,\n",
    "              next_accepted_by_author\n",
    "             ):\n",
    "    stoped_count = 0\n",
    "    good_count = 0\n",
    "    bad_count = 0\n",
    "    for author in suggest_by_author:\n",
    "        if author not in next_accepted_by_author:\n",
    "            stoped_count += 1\n",
    "            continue\n",
    "        next_accepted = next_accepted_by_author[author]\n",
    "        is_good = any([\n",
    "            single_suggest.problem_index == next_accepted\n",
    "            for single_suggest in suggest_by_author[author]\n",
    "        ])\n",
    "        if is_good:\n",
    "            good_count += 1\n",
    "        else:\n",
    "            bad_count += 1\n",
    "    print('good_count = {} bad_count = {} stoped_count = {}'.format(good_count, bad_count, stoped_count))\n",
    "    return good_count / (good_count + bad_count)"
   ]
  },
  {
   "cell_type": "code",
   "execution_count": 12,
   "metadata": {},
   "outputs": [
    {
     "name": "stdout",
     "output_type": "stream",
     "text": [
      "good_count = 14 bad_count = 193 stoped_count = 165\n"
     ]
    },
    {
     "data": {
      "text/plain": [
       "0.06763285024154589"
      ]
     },
     "execution_count": 12,
     "metadata": {},
     "output_type": "execute_result"
    }
   ],
   "source": [
    "get_score(sug, s)"
   ]
  },
  {
   "cell_type": "code",
   "execution_count": 60,
   "metadata": {},
   "outputs": [
    {
     "data": {
      "text/plain": [
       "0.041666666666666664"
      ]
     },
     "execution_count": 60,
     "metadata": {},
     "output_type": "execute_result"
    }
   ],
   "source": [
    "get_score(sug, s)"
   ]
  },
  {
   "cell_type": "code",
   "execution_count": 108,
   "metadata": {},
   "outputs": [],
   "source": [
    "U, S, VT = scipy.linalg.svd(solved_matrix, full_matrices=False)"
   ]
  },
  {
   "cell_type": "code",
   "execution_count": 109,
   "metadata": {},
   "outputs": [],
   "source": [
    "SD = numpy.diag(S)"
   ]
  },
  {
   "cell_type": "code",
   "execution_count": 110,
   "metadata": {},
   "outputs": [],
   "source": [
    "P = U.dot(SD).dot(VT)"
   ]
  },
  {
   "cell_type": "code",
   "execution_count": 111,
   "metadata": {},
   "outputs": [
    {
     "data": {
      "text/plain": [
       "4.80038472230125e-12"
      ]
     },
     "execution_count": 111,
     "metadata": {},
     "output_type": "execute_result"
    }
   ],
   "source": [
    "numpy.linalg.norm(P - solved_matrix)"
   ]
  },
  {
   "cell_type": "code",
   "execution_count": 119,
   "metadata": {},
   "outputs": [
    {
     "data": {
      "text/plain": [
       "(18018, 1108)"
      ]
     },
     "execution_count": 119,
     "metadata": {},
     "output_type": "execute_result"
    }
   ],
   "source": [
    "P.shape"
   ]
  },
  {
   "cell_type": "code",
   "execution_count": null,
   "metadata": {},
   "outputs": [],
   "source": []
  }
 ],
 "metadata": {
  "kernelspec": {
   "display_name": "Python 3",
   "language": "python",
   "name": "python3"
  },
  "language_info": {
   "codemirror_mode": {
    "name": "ipython",
    "version": 3
   },
   "file_extension": ".py",
   "mimetype": "text/x-python",
   "name": "python",
   "nbconvert_exporter": "python",
   "pygments_lexer": "ipython3",
   "version": "3.6.3"
  }
 },
 "nbformat": 4,
 "nbformat_minor": 2
}
