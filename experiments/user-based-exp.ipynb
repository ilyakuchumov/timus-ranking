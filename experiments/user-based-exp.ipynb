{
 "cells": [
  {
   "cell_type": "code",
   "execution_count": 2,
   "metadata": {},
   "outputs": [],
   "source": [
    "import sys\n",
    "sys.path.append('../')"
   ]
  },
  {
   "cell_type": "code",
   "execution_count": 3,
   "metadata": {},
   "outputs": [],
   "source": [
    "import datetime\n",
    "import math\n",
    "from multiprocessing.pool import ThreadPool\n",
    "\n",
    "import pandas\n",
    "import numpy\n",
    "import numpy.linalg\n",
    "import scipy.linalg\n",
    "\n",
    "from tqdm import tqdm\n",
    "\n",
    "import lib.utils as utils\n",
    "import lib.user_based_suggest as user_based_suggest"
   ]
  },
  {
   "cell_type": "code",
   "execution_count": 4,
   "metadata": {},
   "outputs": [
    {
     "name": "stderr",
     "output_type": "stream",
     "text": [
      "/home/ec2-user/mount_point/tfnewenv/lib/python3.6/site-packages/numpy/lib/arraysetops.py:472: FutureWarning: elementwise comparison failed; returning scalar instead, but in the future will perform elementwise comparison\n",
      "  mask |= (ar1 == a)\n"
     ]
    }
   ],
   "source": [
    "timus = pandas.read_csv('../data/timus.csv', index_col=0)"
   ]
  },
  {
   "cell_type": "code",
   "execution_count": 5,
   "metadata": {},
   "outputs": [
    {
     "data": {
      "text/html": [
       "<div>\n",
       "<style scoped>\n",
       "    .dataframe tbody tr th:only-of-type {\n",
       "        vertical-align: middle;\n",
       "    }\n",
       "\n",
       "    .dataframe tbody tr th {\n",
       "        vertical-align: top;\n",
       "    }\n",
       "\n",
       "    .dataframe thead th {\n",
       "        text-align: right;\n",
       "    }\n",
       "</style>\n",
       "<table border=\"1\" class=\"dataframe\">\n",
       "  <thead>\n",
       "    <tr style=\"text-align: right;\">\n",
       "      <th></th>\n",
       "      <th>author_id</th>\n",
       "      <th>date</th>\n",
       "      <th>execution_time</th>\n",
       "      <th>judgement_result</th>\n",
       "      <th>language</th>\n",
       "      <th>memory_used</th>\n",
       "      <th>problem_id</th>\n",
       "      <th>submit_id</th>\n",
       "      <th>test_number</th>\n",
       "    </tr>\n",
       "  </thead>\n",
       "  <tbody>\n",
       "    <tr>\n",
       "      <th>0</th>\n",
       "      <td>10004</td>\n",
       "      <td>2000-04-28 10:15:41</td>\n",
       "      <td>0.02</td>\n",
       "      <td>Accepted</td>\n",
       "      <td>Intel C++ 7</td>\n",
       "      <td>85</td>\n",
       "      <td>1000</td>\n",
       "      <td>184</td>\n",
       "      <td>0</td>\n",
       "    </tr>\n",
       "    <tr>\n",
       "      <th>1</th>\n",
       "      <td>10005</td>\n",
       "      <td>2000-05-12 13:13:38</td>\n",
       "      <td>0.00</td>\n",
       "      <td>Compilation error</td>\n",
       "      <td>Intel C++ 7</td>\n",
       "      <td>0</td>\n",
       "      <td>1000</td>\n",
       "      <td>185</td>\n",
       "      <td>0</td>\n",
       "    </tr>\n",
       "    <tr>\n",
       "      <th>2</th>\n",
       "      <td>10020</td>\n",
       "      <td>2000-09-22 15:58:11</td>\n",
       "      <td>0.01</td>\n",
       "      <td>Accepted</td>\n",
       "      <td>FreePascal 1.0.6</td>\n",
       "      <td>117</td>\n",
       "      <td>1000</td>\n",
       "      <td>220</td>\n",
       "      <td>0</td>\n",
       "    </tr>\n",
       "    <tr>\n",
       "      <th>3</th>\n",
       "      <td>10022</td>\n",
       "      <td>2000-09-26 17:17:34</td>\n",
       "      <td>0.01</td>\n",
       "      <td>Accepted</td>\n",
       "      <td>Intel C++ 7</td>\n",
       "      <td>81</td>\n",
       "      <td>1000</td>\n",
       "      <td>247</td>\n",
       "      <td>0</td>\n",
       "    </tr>\n",
       "    <tr>\n",
       "      <th>4</th>\n",
       "      <td>10033</td>\n",
       "      <td>2000-09-26 18:21:55</td>\n",
       "      <td>0.00</td>\n",
       "      <td>Compilation error</td>\n",
       "      <td>FreePascal 1.0.6</td>\n",
       "      <td>0</td>\n",
       "      <td>1000</td>\n",
       "      <td>276</td>\n",
       "      <td>0</td>\n",
       "    </tr>\n",
       "  </tbody>\n",
       "</table>\n",
       "</div>"
      ],
      "text/plain": [
       "   author_id                 date  execution_time   judgement_result  \\\n",
       "0      10004  2000-04-28 10:15:41            0.02           Accepted   \n",
       "1      10005  2000-05-12 13:13:38            0.00  Compilation error   \n",
       "2      10020  2000-09-22 15:58:11            0.01           Accepted   \n",
       "3      10022  2000-09-26 17:17:34            0.01           Accepted   \n",
       "4      10033  2000-09-26 18:21:55            0.00  Compilation error   \n",
       "\n",
       "           language  memory_used  problem_id  submit_id  test_number  \n",
       "0       Intel C++ 7           85        1000        184            0  \n",
       "1       Intel C++ 7            0        1000        185            0  \n",
       "2  FreePascal 1.0.6          117        1000        220            0  \n",
       "3       Intel C++ 7           81        1000        247            0  \n",
       "4  FreePascal 1.0.6            0        1000        276            0  "
      ]
     },
     "execution_count": 5,
     "metadata": {},
     "output_type": "execute_result"
    }
   ],
   "source": [
    "timus.head()"
   ]
  },
  {
   "cell_type": "code",
   "execution_count": 6,
   "metadata": {},
   "outputs": [],
   "source": [
    "filtered_timus = utils.filter_timus_by_unique_accepted(timus, lambda cnt: cnt > 400)"
   ]
  },
  {
   "cell_type": "code",
   "execution_count": 7,
   "metadata": {},
   "outputs": [],
   "source": [
    "tc = utils.TestCase(filtered_timus, datetime.datetime.now() - datetime.timedelta(days=360))"
   ]
  },
  {
   "cell_type": "code",
   "execution_count": 8,
   "metadata": {},
   "outputs": [],
   "source": [
    "sug = user_based_suggest.suggest(tc.get_train(), 5)"
   ]
  },
  {
   "cell_type": "code",
   "execution_count": 9,
   "metadata": {},
   "outputs": [
    {
     "ename": "SyntaxError",
     "evalue": "Missing parentheses in call to 'print'. Did you mean print(1)? (<ipython-input-9-c94594b6b28f>, line 1)",
     "output_type": "error",
     "traceback": [
      "\u001b[0;36m  File \u001b[0;32m\"<ipython-input-9-c94594b6b28f>\"\u001b[0;36m, line \u001b[0;32m1\u001b[0m\n\u001b[0;31m    print 1\u001b[0m\n\u001b[0m          ^\u001b[0m\n\u001b[0;31mSyntaxError\u001b[0m\u001b[0;31m:\u001b[0m Missing parentheses in call to 'print'. Did you mean print(1)?\n"
     ]
    }
   ],
   "source": [
    "print 1"
   ]
  },
  {
   "cell_type": "code",
   "execution_count": null,
   "metadata": {},
   "outputs": [],
   "source": [
    "s = utils.get_first_ac_by_author(tc.get_test())"
   ]
  },
  {
   "cell_type": "code",
   "execution_count": null,
   "metadata": {},
   "outputs": [],
   "source": [
    "def get_score(suggest_by_author,\n",
    "              next_accepted_by_author\n",
    "             ):\n",
    "    stoped_count = 0\n",
    "    good_count = 0\n",
    "    bad_count = 0\n",
    "    for author in suggest_by_author:\n",
    "        if author not in next_accepted_by_author:\n",
    "            stoped_count += 1\n",
    "            continue\n",
    "        next_accepted = next_accepted_by_author[author]\n",
    "        is_good = any([\n",
    "            single_suggest.problem_index == next_accepted\n",
    "            for single_suggest in suggest_by_author[author]\n",
    "        ])\n",
    "        if is_good:\n",
    "            good_count += 1\n",
    "        else:\n",
    "            bad_count += 1\n",
    "    print('good_count = {} bad_count = {} stoped_count = {}'.format(good_count, bad_count, stoped_count))\n",
    "    return good_count / (good_count + bad_count)"
   ]
  },
  {
   "cell_type": "code",
   "execution_count": null,
   "metadata": {},
   "outputs": [],
   "source": [
    "get_score(sug, s)"
   ]
  },
  {
   "cell_type": "code",
   "execution_count": 60,
   "metadata": {},
   "outputs": [
    {
     "data": {
      "text/plain": [
       "0.041666666666666664"
      ]
     },
     "execution_count": 60,
     "metadata": {},
     "output_type": "execute_result"
    }
   ],
   "source": [
    "get_score(sug, s)"
   ]
  },
  {
   "cell_type": "code",
   "execution_count": 19,
   "metadata": {},
   "outputs": [],
   "source": [
    "s = sorted(s, key=lambda x: x.score, reverse=True)"
   ]
  },
  {
   "cell_type": "code",
   "execution_count": 21,
   "metadata": {},
   "outputs": [
    {
     "name": "stdout",
     "output_type": "stream",
     "text": [
      "1589 0.1\n",
      "1394 0.08333333333333333\n",
      "1388 0.043478260869565216\n",
      "1369 0.041666666666666664\n",
      "1383 0.034482758620689655\n",
      "1819 0.029411764705882353\n",
      "1285 0.02824858757062147\n",
      "1728 0.015217391304347827\n",
      "2036 0.01\n",
      "1075 0.009876543209876543\n",
      "1726 0.008793969849246231\n",
      "1727 0.005537974683544304\n",
      "2028 0.005494505494505495\n",
      "2032 0.005208333333333333\n",
      "2029 0.004672897196261682\n",
      "2026 0.004201680672268907\n",
      "1725 0.004022988505747126\n",
      "2030 0.003875968992248062\n",
      "2027 0.0035087719298245615\n",
      "2021 0.0031746031746031746\n",
      "1731 0.002883031301482702\n",
      "2034 0.0026041666666666665\n",
      "2024 0.0025188916876574307\n",
      "2019 0.0020408163265306124\n",
      "1723 0.0019892014776925265\n",
      "1496 0.0012598992080633548\n",
      "1548 0.0\n",
      "2016 0.0\n",
      "2043 0.0\n",
      "2041 0.0\n",
      "2040 0.0\n",
      "2039 0.0\n",
      "2038 0.0\n",
      "2042 0.0\n",
      "2044 0.0\n",
      "2048 0.0\n",
      "2047 0.0\n",
      "2051 0.0\n",
      "2052 0.0\n",
      "2053 0.0\n",
      "2055 0.0\n",
      "2060 0.0\n",
      "2059 0.0\n",
      "2058 0.0\n",
      "2057 0.0\n",
      "1799 0.0\n",
      "2063 0.0\n",
      "2065 0.0\n",
      "2072 0.0\n",
      "2064 0.0\n",
      "2067 0.0\n",
      "2062 0.0\n",
      "2071 0.0\n",
      "2076 0.0\n",
      "1896 0.0\n",
      "2089 0.0\n",
      "2078 0.0\n",
      "2081 0.0\n",
      "2084 0.0\n",
      "2080 0.0\n",
      "2086 0.0\n",
      "2079 0.0\n",
      "2085 0.0\n",
      "2083 0.0\n",
      "2082 0.0\n",
      "2087 0.0\n",
      "2088 0.0\n",
      "2098 0.0\n",
      "2099 0.0\n",
      "2091 0.0\n",
      "2095 0.0\n",
      "2093 0.0\n",
      "2092 0.0\n",
      "2096 0.0\n",
      "2097 0.0\n",
      "2090 0.0\n",
      "2094 0.0\n",
      "1873 0.0\n",
      "2100 0.0\n",
      "2103 0.0\n",
      "2102 0.0\n",
      "2109 0.0\n",
      "2105 0.0\n",
      "2104 0.0\n",
      "2108 0.0\n",
      "2101 0.0\n",
      "2106 0.0\n",
      "2107 0.0\n",
      "2110 0.0\n"
     ]
    }
   ],
   "source": [
    "for item in s:\n",
    "    print(problems_encoder.decode(item.problem_index), item.score)"
   ]
  },
  {
   "cell_type": "code",
   "execution_count": 135,
   "metadata": {},
   "outputs": [
    {
     "data": {
      "text/plain": [
       "1000"
      ]
     },
     "execution_count": 135,
     "metadata": {},
     "output_type": "execute_result"
    }
   ],
   "source": [
    "problems_encoder.encode(2006)"
   ]
  },
  {
   "cell_type": "code",
   "execution_count": 108,
   "metadata": {},
   "outputs": [],
   "source": [
    "U, S, VT = scipy.linalg.svd(solved_matrix, full_matrices=False)"
   ]
  },
  {
   "cell_type": "code",
   "execution_count": 109,
   "metadata": {},
   "outputs": [],
   "source": [
    "SD = numpy.diag(S)"
   ]
  },
  {
   "cell_type": "code",
   "execution_count": 110,
   "metadata": {},
   "outputs": [],
   "source": [
    "P = U.dot(SD).dot(VT)"
   ]
  },
  {
   "cell_type": "code",
   "execution_count": 111,
   "metadata": {},
   "outputs": [
    {
     "data": {
      "text/plain": [
       "4.80038472230125e-12"
      ]
     },
     "execution_count": 111,
     "metadata": {},
     "output_type": "execute_result"
    }
   ],
   "source": [
    "numpy.linalg.norm(P - solved_matrix)"
   ]
  },
  {
   "cell_type": "code",
   "execution_count": 119,
   "metadata": {},
   "outputs": [
    {
     "data": {
      "text/plain": [
       "(18018, 1108)"
      ]
     },
     "execution_count": 119,
     "metadata": {},
     "output_type": "execute_result"
    }
   ],
   "source": [
    "P.shape"
   ]
  },
  {
   "cell_type": "code",
   "execution_count": null,
   "metadata": {},
   "outputs": [],
   "source": []
  }
 ],
 "metadata": {
  "kernelspec": {
   "display_name": "Python 3",
   "language": "python",
   "name": "python3"
  },
  "language_info": {
   "codemirror_mode": {
    "name": "ipython",
    "version": 3
   },
   "file_extension": ".py",
   "mimetype": "text/x-python",
   "name": "python",
   "nbconvert_exporter": "python",
   "pygments_lexer": "ipython3",
   "version": "3.6.3"
  }
 },
 "nbformat": 4,
 "nbformat_minor": 2
}
