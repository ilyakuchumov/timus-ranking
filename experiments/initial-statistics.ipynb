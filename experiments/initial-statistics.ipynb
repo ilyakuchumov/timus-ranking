{
 "cells": [
  {
   "cell_type": "code",
   "execution_count": 1,
   "metadata": {},
   "outputs": [],
   "source": [
    "import sys\n",
    "sys.path.append('../')"
   ]
  },
  {
   "cell_type": "code",
   "execution_count": 2,
   "metadata": {},
   "outputs": [],
   "source": [
    "import pandas\n",
    "import numpy\n",
    "import matplotlib.pyplot as plt\n",
    "import lib.utils as utils"
   ]
  },
  {
   "cell_type": "code",
   "execution_count": 3,
   "metadata": {},
   "outputs": [
    {
     "name": "stderr",
     "output_type": "stream",
     "text": [
      "/home/ec2-user/mount_point/tfnewenv/lib/python3.6/site-packages/numpy/lib/arraysetops.py:472: FutureWarning: elementwise comparison failed; returning scalar instead, but in the future will perform elementwise comparison\n",
      "  mask |= (ar1 == a)\n"
     ]
    }
   ],
   "source": [
    "timus = pandas.read_csv('../data/timus.csv', index_col=0)"
   ]
  },
  {
   "cell_type": "code",
   "execution_count": 4,
   "metadata": {},
   "outputs": [
    {
     "data": {
      "text/plain": [
       "Index(['author_id', 'date', 'execution_time', 'judgement_result', 'language',\n",
       "       'memory_used', 'problem_id', 'submit_id', 'test_number'],\n",
       "      dtype='object')"
      ]
     },
     "execution_count": 4,
     "metadata": {},
     "output_type": "execute_result"
    }
   ],
   "source": [
    "timus.columns"
   ]
  },
  {
   "cell_type": "code",
   "execution_count": 17,
   "metadata": {},
   "outputs": [
    {
     "data": {
      "text/html": [
       "<div>\n",
       "<style scoped>\n",
       "    .dataframe tbody tr th:only-of-type {\n",
       "        vertical-align: middle;\n",
       "    }\n",
       "\n",
       "    .dataframe tbody tr th {\n",
       "        vertical-align: top;\n",
       "    }\n",
       "\n",
       "    .dataframe thead th {\n",
       "        text-align: right;\n",
       "    }\n",
       "</style>\n",
       "<table border=\"1\" class=\"dataframe\">\n",
       "  <thead>\n",
       "    <tr style=\"text-align: right;\">\n",
       "      <th></th>\n",
       "      <th>author_id</th>\n",
       "      <th>date</th>\n",
       "      <th>execution_time</th>\n",
       "      <th>judgement_result</th>\n",
       "      <th>language</th>\n",
       "      <th>memory_used</th>\n",
       "      <th>problem_id</th>\n",
       "      <th>submit_id</th>\n",
       "      <th>test_number</th>\n",
       "    </tr>\n",
       "  </thead>\n",
       "  <tbody>\n",
       "    <tr>\n",
       "      <th>0</th>\n",
       "      <td>10004</td>\n",
       "      <td>2000-04-28 10:15:41</td>\n",
       "      <td>0.02</td>\n",
       "      <td>Accepted</td>\n",
       "      <td>Intel C++ 7</td>\n",
       "      <td>85</td>\n",
       "      <td>1000</td>\n",
       "      <td>184</td>\n",
       "      <td>0</td>\n",
       "    </tr>\n",
       "    <tr>\n",
       "      <th>1</th>\n",
       "      <td>10005</td>\n",
       "      <td>2000-05-12 13:13:38</td>\n",
       "      <td>0.00</td>\n",
       "      <td>Compilation error</td>\n",
       "      <td>Intel C++ 7</td>\n",
       "      <td>0</td>\n",
       "      <td>1000</td>\n",
       "      <td>185</td>\n",
       "      <td>0</td>\n",
       "    </tr>\n",
       "    <tr>\n",
       "      <th>2</th>\n",
       "      <td>10020</td>\n",
       "      <td>2000-09-22 15:58:11</td>\n",
       "      <td>0.01</td>\n",
       "      <td>Accepted</td>\n",
       "      <td>FreePascal 1.0.6</td>\n",
       "      <td>117</td>\n",
       "      <td>1000</td>\n",
       "      <td>220</td>\n",
       "      <td>0</td>\n",
       "    </tr>\n",
       "    <tr>\n",
       "      <th>3</th>\n",
       "      <td>10022</td>\n",
       "      <td>2000-09-26 17:17:34</td>\n",
       "      <td>0.01</td>\n",
       "      <td>Accepted</td>\n",
       "      <td>Intel C++ 7</td>\n",
       "      <td>81</td>\n",
       "      <td>1000</td>\n",
       "      <td>247</td>\n",
       "      <td>0</td>\n",
       "    </tr>\n",
       "    <tr>\n",
       "      <th>4</th>\n",
       "      <td>10033</td>\n",
       "      <td>2000-09-26 18:21:55</td>\n",
       "      <td>0.00</td>\n",
       "      <td>Compilation error</td>\n",
       "      <td>FreePascal 1.0.6</td>\n",
       "      <td>0</td>\n",
       "      <td>1000</td>\n",
       "      <td>276</td>\n",
       "      <td>0</td>\n",
       "    </tr>\n",
       "  </tbody>\n",
       "</table>\n",
       "</div>"
      ],
      "text/plain": [
       "   author_id                 date  execution_time   judgement_result  \\\n",
       "0      10004  2000-04-28 10:15:41            0.02           Accepted   \n",
       "1      10005  2000-05-12 13:13:38            0.00  Compilation error   \n",
       "2      10020  2000-09-22 15:58:11            0.01           Accepted   \n",
       "3      10022  2000-09-26 17:17:34            0.01           Accepted   \n",
       "4      10033  2000-09-26 18:21:55            0.00  Compilation error   \n",
       "\n",
       "           language  memory_used  problem_id  submit_id  test_number  \n",
       "0       Intel C++ 7           85        1000        184            0  \n",
       "1       Intel C++ 7            0        1000        185            0  \n",
       "2  FreePascal 1.0.6          117        1000        220            0  \n",
       "3       Intel C++ 7           81        1000        247            0  \n",
       "4  FreePascal 1.0.6            0        1000        276            0  "
      ]
     },
     "execution_count": 17,
     "metadata": {},
     "output_type": "execute_result"
    }
   ],
   "source": [
    "timus.head()"
   ]
  },
  {
   "cell_type": "code",
   "execution_count": 18,
   "metadata": {},
   "outputs": [
    {
     "data": {
      "text/html": [
       "<div>\n",
       "<style scoped>\n",
       "    .dataframe tbody tr th:only-of-type {\n",
       "        vertical-align: middle;\n",
       "    }\n",
       "\n",
       "    .dataframe tbody tr th {\n",
       "        vertical-align: top;\n",
       "    }\n",
       "\n",
       "    .dataframe thead th {\n",
       "        text-align: right;\n",
       "    }\n",
       "</style>\n",
       "<table border=\"1\" class=\"dataframe\">\n",
       "  <thead>\n",
       "    <tr style=\"text-align: right;\">\n",
       "      <th></th>\n",
       "      <th>author_id</th>\n",
       "      <th>date</th>\n",
       "      <th>execution_time</th>\n",
       "      <th>judgement_result</th>\n",
       "      <th>language</th>\n",
       "      <th>memory_used</th>\n",
       "      <th>problem_id</th>\n",
       "      <th>submit_id</th>\n",
       "      <th>test_number</th>\n",
       "    </tr>\n",
       "  </thead>\n",
       "  <tbody>\n",
       "    <tr>\n",
       "      <th>7315339</th>\n",
       "      <td>249913</td>\n",
       "      <td>2018-05-28 23:45:40</td>\n",
       "      <td>2.028</td>\n",
       "      <td>Time limit exceeded</td>\n",
       "      <td>G++ 7.1</td>\n",
       "      <td>404</td>\n",
       "      <td>1086</td>\n",
       "      <td>7897074</td>\n",
       "      <td>2</td>\n",
       "    </tr>\n",
       "    <tr>\n",
       "      <th>7315340</th>\n",
       "      <td>249902</td>\n",
       "      <td>2018-05-28 23:48:47</td>\n",
       "      <td>0.000</td>\n",
       "      <td>Compilation error</td>\n",
       "      <td>GCC 7.1</td>\n",
       "      <td>0</td>\n",
       "      <td>1724</td>\n",
       "      <td>7897075</td>\n",
       "      <td>0</td>\n",
       "    </tr>\n",
       "    <tr>\n",
       "      <th>7315341</th>\n",
       "      <td>249902</td>\n",
       "      <td>2018-05-28 23:49:16</td>\n",
       "      <td>0.001</td>\n",
       "      <td>Wrong answer</td>\n",
       "      <td>G++ 7.1</td>\n",
       "      <td>436</td>\n",
       "      <td>1724</td>\n",
       "      <td>7897076</td>\n",
       "      <td>8</td>\n",
       "    </tr>\n",
       "    <tr>\n",
       "      <th>7315342</th>\n",
       "      <td>231931</td>\n",
       "      <td>2018-05-28 23:50:52</td>\n",
       "      <td>1.294</td>\n",
       "      <td>Running</td>\n",
       "      <td>G++ 7.1</td>\n",
       "      <td>416</td>\n",
       "      <td>1798</td>\n",
       "      <td>7897077</td>\n",
       "      <td>0</td>\n",
       "    </tr>\n",
       "    <tr>\n",
       "      <th>7315343</th>\n",
       "      <td>241093</td>\n",
       "      <td>2018-05-28 23:51:05</td>\n",
       "      <td>0.001</td>\n",
       "      <td>Accepted</td>\n",
       "      <td>G++ 7.1</td>\n",
       "      <td>432</td>\n",
       "      <td>1000</td>\n",
       "      <td>7897078</td>\n",
       "      <td>0</td>\n",
       "    </tr>\n",
       "  </tbody>\n",
       "</table>\n",
       "</div>"
      ],
      "text/plain": [
       "         author_id                 date  execution_time     judgement_result  \\\n",
       "7315339     249913  2018-05-28 23:45:40           2.028  Time limit exceeded   \n",
       "7315340     249902  2018-05-28 23:48:47           0.000    Compilation error   \n",
       "7315341     249902  2018-05-28 23:49:16           0.001         Wrong answer   \n",
       "7315342     231931  2018-05-28 23:50:52           1.294              Running   \n",
       "7315343     241093  2018-05-28 23:51:05           0.001             Accepted   \n",
       "\n",
       "        language  memory_used  problem_id  submit_id  test_number  \n",
       "7315339  G++ 7.1          404        1086    7897074            2  \n",
       "7315340  GCC 7.1            0        1724    7897075            0  \n",
       "7315341  G++ 7.1          436        1724    7897076            8  \n",
       "7315342  G++ 7.1          416        1798    7897077            0  \n",
       "7315343  G++ 7.1          432        1000    7897078            0  "
      ]
     },
     "execution_count": 18,
     "metadata": {},
     "output_type": "execute_result"
    }
   ],
   "source": [
    "timus.tail()"
   ]
  },
  {
   "cell_type": "code",
   "execution_count": 20,
   "metadata": {},
   "outputs": [
    {
     "data": {
      "text/plain": [
       "134214"
      ]
     },
     "execution_count": 20,
     "metadata": {},
     "output_type": "execute_result"
    }
   ],
   "source": [
    "len(set(timus.author_id))"
   ]
  },
  {
   "cell_type": "code",
   "execution_count": 5,
   "metadata": {},
   "outputs": [],
   "source": [
    "filtered_timus = utils.filter_timus_by_unique_accepted(timus, lambda cnt: cnt > 100)"
   ]
  },
  {
   "cell_type": "code",
   "execution_count": 6,
   "metadata": {},
   "outputs": [
    {
     "data": {
      "text/plain": [
       "3247"
      ]
     },
     "execution_count": 6,
     "metadata": {},
     "output_type": "execute_result"
    }
   ],
   "source": [
    "len(set(filtered_timus.author_id))"
   ]
  },
  {
   "cell_type": "code",
   "execution_count": 16,
   "metadata": {},
   "outputs": [],
   "source": [
    "def get_lang(lang):\n",
    "    substrs = ['C++', 'FreePascal', 'Java', 'C#', 'Python', 'Ruby', 'Go', 'Scala', 'Rust', 'VB.NET', 'Kotlin', 'Haskell']\n",
    "    for sub in substrs:\n",
    "        if sub in lang:\n",
    "            return sub\n",
    "    if 'Clang++' in lang or 'G++' in lang:\n",
    "        return 'C++'\n",
    "    if 'C' in lang:\n",
    "        return 'C'\n",
    "    return None"
   ]
  },
  {
   "cell_type": "code",
   "execution_count": 17,
   "metadata": {},
   "outputs": [
    {
     "name": "stdout",
     "output_type": "stream",
     "text": [
      "Rust 1.25 => Rust\n",
      "Java 1.5 => Java\n",
      "Clang++ 4.0.1 => C++\n",
      "FreePascal 1.0.6 => FreePascal\n",
      "G++ 4.7 => C++\n",
      "GCC 4.9 C11 => C\n",
      "G++ 4.7 C++11 => C++\n",
      "Java 1.8 => Java\n",
      "FreePascal 2.0.4 => FreePascal\n",
      "Haskell 7.6 => Haskell\n",
      "Intel C++ 7 => C++\n",
      "Visual C++ 2010 => C++\n",
      "Java 1.6 => Java\n",
      "Intel C 7 => C\n",
      "Visual C# 2008 => C#\n",
      "VB.NET 2010 => VB.NET\n",
      "Visual C# 2010 => C#\n",
      "GCC 4.9 => C\n",
      "GCC 4.7 C11 => C\n",
      "Clang 3.5 C++14 => C++\n",
      "Python 3.6 => Python\n",
      "FreePascal 2.6 => FreePascal\n",
      "Go 1.3 => Go\n",
      "Kotlin 1.1.4 => Kotlin\n",
      "Visual C++ 2013 => C++\n",
      "Scala 2.11 => Scala\n",
      "Visual C# 2017 => C#\n",
      "Java 1.7 => Java\n",
      "Visual C 2017 => C\n",
      "GCC 7.1 => C\n",
      "Python 3.4 => Python\n",
      "Visual C 2013 => C\n",
      "G++ 4.9 C++11 => C++\n",
      "G++ 7.1 => C++\n",
      "G++ 4.9 => C++\n",
      "Visual C++ 2017 => C++\n",
      "Visaul C# 2005 => C#\n",
      "Python 3.3 => Python\n",
      "FreePascal 2.0.2 => FreePascal\n",
      "Scala 2.10 => Scala\n",
      "FreePascal 2.0.1 => FreePascal\n",
      "Visual C 2010 => C\n",
      "Rust 1.9 => Rust\n",
      "Ruby 1.9 => Ruby\n",
      "GCC 4.7 => C\n",
      "Python 2.7 => Python\n"
     ]
    }
   ],
   "source": [
    "for x in set(timus['language']):\n",
    "    print(x, '=>', get_lang(x))"
   ]
  },
  {
   "cell_type": "code",
   "execution_count": 25,
   "metadata": {},
   "outputs": [],
   "source": [
    "timus['language']=timus['language'].apply(get_lang)"
   ]
  },
  {
   "cell_type": "code",
   "execution_count": 26,
   "metadata": {},
   "outputs": [
    {
     "data": {
      "text/plain": [
       "language\n",
       "C++           4235795\n",
       "FreePascal    1706313\n",
       "Java           516028\n",
       "C              417290\n",
       "C#             241567\n",
       "Python         165229\n",
       "Ruby             8830\n",
       "Go               7917\n",
       "Haskell          7494\n",
       "Scala            6029\n",
       "Rust             1463\n",
       "VB.NET           1030\n",
       "Kotlin            359\n",
       "dtype: int64"
      ]
     },
     "execution_count": 26,
     "metadata": {},
     "output_type": "execute_result"
    }
   ],
   "source": [
    "timus.groupby(['language']).size().sort_values(ascending=False)"
   ]
  },
  {
   "cell_type": "code",
   "execution_count": 26,
   "metadata": {},
   "outputs": [
    {
     "data": {
      "text/plain": [
       "judgement_result\n",
       "Wrong answer                                        3205663\n",
       "Accepted                                            2181510\n",
       "Compilation error                                    661185\n",
       "Time limit exceeded                                  635723\n",
       "Runtime error (access violation)                     243036\n",
       "Memory limit exceeded                                136620\n",
       "Runtime error                                        107471\n",
       "Runtime error (stack overflow)                        50606\n",
       "Runtime error (integer division by zero)              27621\n",
       "Output limit exceeded                                 26872\n",
       "Runtime error (floating-point invalid operation)      14123\n",
       "Runtime error (non-zero exit code)                    13106\n",
       "Runtime error (floating-point division by zero)        5011\n",
       "Restricted function                                    3627\n",
       "Idleness limit exceeded                                2010\n",
       "Runtime error (floating-point overflow)                 520\n",
       "Runtime error (integer overflow)                        352\n",
       "Runtime error (illegal instruction)                     199\n",
       "Runtime error (privileged instruction)                   54\n",
       "Runtime error (floating-point stack check)               30\n",
       "Checker failed                                            2\n",
       "Runtime error (floating-point inexact result)             2\n",
       "Running                                                   1\n",
       "dtype: int64"
      ]
     },
     "execution_count": 26,
     "metadata": {},
     "output_type": "execute_result"
    }
   ],
   "source": [
    "timus.groupby(['judgement_result']).size().sort_values(ascending=False)"
   ]
  },
  {
   "cell_type": "code",
   "execution_count": 42,
   "metadata": {},
   "outputs": [
    {
     "data": {
      "text/plain": [
       "[<matplotlib.lines.Line2D at 0x7fa37030e1d0>]"
      ]
     },
     "execution_count": 42,
     "metadata": {},
     "output_type": "execute_result"
    },
    {
     "data": {
      "image/png": "[encoded data removed]",
      "text/plain": [
       "<matplotlib.figure.Figure at 0x7fa370506c88>"
      ]
     },
     "metadata": {},
     "output_type": "display_data"
    }
   ],
   "source": [
    "tmp = timus.groupby(['author_id']).size().sort_values()\n",
    "plt.plot(range(len(tmp)), tmp)"
   ]
  },
  {
   "cell_type": "code",
   "execution_count": 43,
   "metadata": {},
   "outputs": [
    {
     "data": {
      "text/plain": [
       "count    134214.000000\n",
       "mean         54.505074\n",
       "std         299.056013\n",
       "min           1.000000\n",
       "25%           2.000000\n",
       "50%           7.000000\n",
       "75%          28.000000\n",
       "max       25775.000000\n",
       "dtype: float64"
      ]
     },
     "execution_count": 43,
     "metadata": {},
     "output_type": "execute_result"
    }
   ],
   "source": [
    "timus.groupby(['author_id']).size().describe()"
   ]
  },
  {
   "cell_type": "code",
   "execution_count": 51,
   "metadata": {},
   "outputs": [
    {
     "data": {
      "text/plain": [
       "count    20910.000000\n",
       "mean       293.440698\n",
       "std        711.078795\n",
       "min         56.000000\n",
       "25%         80.000000\n",
       "50%        129.000000\n",
       "75%        260.000000\n",
       "max      25775.000000\n",
       "dtype: float64"
      ]
     },
     "execution_count": 51,
     "metadata": {},
     "output_type": "execute_result"
    }
   ],
   "source": [
    "(\n",
    "    timus\n",
    "        .groupby(['author_id'])\n",
    "        .filter(lambda x: len(x) > 55)\n",
    "        .groupby(['author_id'])\n",
    "        .size()\n",
    "        .sort_values()\n",
    "        .describe()\n",
    ")"
   ]
  },
  {
   "cell_type": "code",
   "execution_count": 54,
   "metadata": {},
   "outputs": [
    {
     "data": {
      "text/plain": [
       "[<matplotlib.lines.Line2D at 0x7fa36efc7128>]"
      ]
     },
     "execution_count": 54,
     "metadata": {},
     "output_type": "execute_result"
    },
    {
     "data": {
      "image/png": "[encoded data removed]",
      "text/plain": [
       "<matplotlib.figure.Figure at 0x7fa37032ac50>"
      ]
     },
     "metadata": {},
     "output_type": "display_data"
    }
   ],
   "source": [
    "tmp = (\n",
    "    timus\n",
    "        .groupby(['author_id'])\n",
    "        .filter(lambda x: len(x) > 50)\n",
    "        .groupby(['author_id'])\n",
    "        .size()\n",
    "        .sort_values()\n",
    ")\n",
    "plt.plot(range(len(tmp)), tmp)"
   ]
  },
  {
   "cell_type": "code",
   "execution_count": 55,
   "metadata": {},
   "outputs": [
    {
     "data": {
      "text/plain": [
       "[<matplotlib.lines.Line2D at 0x7fa36ef2e908>]"
      ]
     },
     "execution_count": 55,
     "metadata": {},
     "output_type": "execute_result"
    },
    {
     "data": {
      "image/png": "[encoded data removed]",
      "text/plain": [
       "<matplotlib.figure.Figure at 0x7fa36fff76d8>"
      ]
     },
     "metadata": {},
     "output_type": "display_data"
    }
   ],
   "source": [
    "tmp = (\n",
    "    timus\n",
    "        .groupby(['author_id'])\n",
    "        .filter(lambda x: len(x) > 100)\n",
    "        .groupby(['author_id'])\n",
    "        .size()\n",
    "        .sort_values()\n",
    ")\n",
    "plt.plot(range(len(tmp)), tmp)"
   ]
  },
  {
   "cell_type": "code",
   "execution_count": 56,
   "metadata": {},
   "outputs": [
    {
     "data": {
      "text/plain": [
       "[<matplotlib.lines.Line2D at 0x7fa36ff19c18>]"
      ]
     },
     "execution_count": 56,
     "metadata": {},
     "output_type": "execute_result"
    },
    {
     "data": {
      "image/png": "[encoded data removed]",
      "text/plain": [
       "<matplotlib.figure.Figure at 0x7fa36efa0400>"
      ]
     },
     "metadata": {},
     "output_type": "display_data"
    }
   ],
   "source": [
    "tmp = (\n",
    "    timus\n",
    "        .groupby(['author_id'])\n",
    "        .filter(lambda x: len(x) > 500)\n",
    "        .groupby(['author_id'])\n",
    "        .size()\n",
    "        .sort_values()\n",
    ")\n",
    "plt.plot(range(len(tmp)), tmp)"
   ]
  },
  {
   "cell_type": "code",
   "execution_count": 68,
   "metadata": {},
   "outputs": [
    {
     "data": {
      "text/plain": [
       "count    18885.000000\n",
       "mean        69.157479\n",
       "std         98.338754\n",
       "min         15.000000\n",
       "25%         22.000000\n",
       "50%         35.000000\n",
       "75%         71.000000\n",
       "max       1104.000000\n",
       "Name: problem_id, dtype: float64"
      ]
     },
     "execution_count": 68,
     "metadata": {},
     "output_type": "execute_result"
    }
   ],
   "source": [
    "(\n",
    "    timus[timus.judgement_result == 'Accepted']\n",
    "        .groupby('author_id')\n",
    "        .filter(lambda x: len(set(x['problem_id'])) > 14)\n",
    "        .groupby('author_id')['problem_id']\n",
    "        .nunique()\n",
    "        .describe()\n",
    ")"
   ]
  },
  {
   "cell_type": "code",
   "execution_count": 64,
   "metadata": {},
   "outputs": [
    {
     "data": {
      "text/plain": [
       "[<matplotlib.lines.Line2D at 0x7fa36fa54fd0>]"
      ]
     },
     "execution_count": 64,
     "metadata": {},
     "output_type": "execute_result"
    },
    {
     "data": {
      "image/png": "[encoded data removed]",
      "text/plain": [
       "<matplotlib.figure.Figure at 0x7fa36ec5c160>"
      ]
     },
     "metadata": {},
     "output_type": "display_data"
    }
   ],
   "source": [
    "tmp = (\n",
    "    timus[timus.judgement_result == 'Accepted']\n",
    "        .groupby('author_id')\n",
    "        .filter(lambda x: len(set(x['problem_id'])) > 14)\n",
    "        .groupby('author_id')['problem_id']\n",
    "        .nunique()\n",
    "        .sort_values()\n",
    ")\n",
    "plt.plot(range(len(tmp)), tmp)"
   ]
  },
  {
   "cell_type": "code",
   "execution_count": 69,
   "metadata": {},
   "outputs": [
    {
     "data": {
      "text/plain": [
       "count    6676.000000\n",
       "mean      146.257939\n",
       "std       134.110467\n",
       "min        51.000000\n",
       "25%        67.000000\n",
       "50%        98.000000\n",
       "75%       165.000000\n",
       "max      1104.000000\n",
       "Name: problem_id, dtype: float64"
      ]
     },
     "execution_count": 69,
     "metadata": {},
     "output_type": "execute_result"
    }
   ],
   "source": [
    "(\n",
    "    timus[timus.judgement_result == 'Accepted']\n",
    "        .groupby('author_id')\n",
    "        .filter(lambda x: len(set(x['problem_id'])) > 50)\n",
    "        .groupby('author_id')['problem_id']\n",
    "        .nunique()\n",
    "        .describe()\n",
    ")"
   ]
  },
  {
   "cell_type": "code",
   "execution_count": 67,
   "metadata": {},
   "outputs": [
    {
     "data": {
      "text/plain": [
       "[<matplotlib.lines.Line2D at 0x7fa36eaeeef0>]"
      ]
     },
     "execution_count": 67,
     "metadata": {},
     "output_type": "execute_result"
    },
    {
     "data": {
      "image/png": "[encoded data removed]",
      "text/plain": [
       "<matplotlib.figure.Figure at 0x7fa36ec73cc0>"
      ]
     },
     "metadata": {},
     "output_type": "display_data"
    }
   ],
   "source": [
    "tmp = (\n",
    "    timus[timus.judgement_result == 'Accepted']\n",
    "        .groupby('author_id')\n",
    "        .filter(lambda x: len(set(x['problem_id'])) > 50)\n",
    "        .groupby('author_id')['problem_id']\n",
    "        .nunique()\n",
    "        .sort_values()\n",
    ")\n",
    "plt.plot(range(len(tmp)), tmp)"
   ]
  },
  {
   "cell_type": "code",
   "execution_count": null,
   "metadata": {},
   "outputs": [],
   "source": [
    "(\n",
    "    timus[timus.judgement_result == 'Accepted']\n",
    "        .groupby('author_id')\n",
    "        .filter(lambda x: len(set(x['problem_id'])) > 200)\n",
    "        .groupby('author_id')['problem_id']\n",
    "        .nunique()\n",
    "        .describe()\n",
    ")"
   ]
  },
  {
   "cell_type": "code",
   "execution_count": 66,
   "metadata": {},
   "outputs": [
    {
     "data": {
      "text/plain": [
       "[<matplotlib.lines.Line2D at 0x7fa36fdb0f98>]"
      ]
     },
     "execution_count": 66,
     "metadata": {},
     "output_type": "execute_result"
    },
    {
     "data": {
      "image/png": "[encoded data removed]",
      "text/plain": [
       "<matplotlib.figure.Figure at 0x7fa36eb855f8>"
      ]
     },
     "metadata": {},
     "output_type": "display_data"
    }
   ],
   "source": [
    "tmp = (\n",
    "    timus[timus.judgement_result == 'Accepted']\n",
    "        .groupby('author_id')\n",
    "        .filter(lambda x: len(set(x['problem_id'])) > 200)\n",
    "        .groupby('author_id')['problem_id']\n",
    "        .nunique()\n",
    "        .sort_values()\n",
    ")\n",
    "plt.plot(range(len(tmp)), tmp)"
   ]
  },
  {
   "cell_type": "code",
   "execution_count": 7,
   "metadata": {},
   "outputs": [
    {
     "data": {
      "text/plain": [
       "[datetime.datetime(2017, 12, 6, 0, 0),\n",
       " datetime.datetime(2017, 6, 9, 0, 0),\n",
       " datetime.datetime(2016, 12, 11, 0, 0),\n",
       " datetime.datetime(2016, 6, 14, 0, 0),\n",
       " datetime.datetime(2015, 12, 17, 0, 0),\n",
       " datetime.datetime(2015, 6, 20, 0, 0),\n",
       " datetime.datetime(2014, 12, 22, 0, 0),\n",
       " datetime.datetime(2014, 6, 25, 0, 0),\n",
       " datetime.datetime(2013, 12, 27, 0, 0),\n",
       " datetime.datetime(2013, 6, 30, 0, 0),\n",
       " datetime.datetime(2013, 1, 1, 0, 0),\n",
       " datetime.datetime(2012, 7, 5, 0, 0)]"
      ]
     },
     "execution_count": 7,
     "metadata": {},
     "output_type": "execute_result"
    }
   ],
   "source": [
    "utils.DEFAULT_TESTING_DATES"
   ]
  },
  {
   "cell_type": "code",
   "execution_count": null,
   "metadata": {},
   "outputs": [],
   "source": []
  }
 ],
 "metadata": {
  "kernelspec": {
   "display_name": "Python 3",
   "language": "python",
   "name": "python3"
  },
  "language_info": {
   "codemirror_mode": {
    "name": "ipython",
    "version": 3
   },
   "file_extension": ".py",
   "mimetype": "text/x-python",
   "name": "python",
   "nbconvert_exporter": "python",
   "pygments_lexer": "ipython3",
   "version": "3.6.3"
  }
 },
 "nbformat": 4,
 "nbformat_minor": 2
}
